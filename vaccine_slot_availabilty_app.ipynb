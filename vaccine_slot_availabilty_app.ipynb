{
 "cells": [
  {
   "cell_type": "code",
   "execution_count": null,
   "metadata": {},
   "outputs": [],
   "source": [
    "#!pip install sendgrid"
   ]
  },
  {
   "cell_type": "code",
   "execution_count": null,
   "metadata": {},
   "outputs": [],
   "source": [
    "#!pip install plyer"
   ]
  },
  {
   "cell_type": "code",
   "execution_count": null,
   "metadata": {},
   "outputs": [],
   "source": [
    "#Import Libraries\n",
    "import requests\n",
    "import json\n",
    "import time\n",
    "import datetime\n",
    "import smtplib"
   ]
  },
  {
   "cell_type": "code",
   "execution_count": null,
   "metadata": {},
   "outputs": [],
   "source": [
    "import sendgrid\n",
    "import os\n",
    "from sendgrid.helpers.mail import Mail, Email, To, Content"
   ]
  },
  {
   "cell_type": "code",
   "execution_count": null,
   "metadata": {},
   "outputs": [],
   "source": [
    "from plyer import notification #for getting notification on your PC"
   ]
  },
  {
   "cell_type": "code",
   "execution_count": null,
   "metadata": {},
   "outputs": [],
   "source": [
    "sg = sendgrid.SendGridAPIClient(api_key=os.environ.get('SENDGRID_API_KEY'))"
   ]
  },
  {
   "cell_type": "code",
   "execution_count": null,
   "metadata": {},
   "outputs": [],
   "source": [
    "#Define Constants\n",
    "PINCODE = \"\" #Example 600040\n",
    "MY_EMAIL = \"\" #From this mail id, the alerts will be sent\n",
    "MY_PASSWORD = \"\" #Enter the email id's password"
   ]
  },
  {
   "cell_type": "code",
   "execution_count": null,
   "metadata": {},
   "outputs": [],
   "source": [
    "#Derive the date and url\n",
    "#url source is Cowin API - https://apisetu.gov.in/public/api/cowin\n",
    "today = time.strftime(\"%d/%m/%Y\")\n",
    "url = f\"https://cdn-api.co-vin.in/api/v2/appointment/sessions/public/calendarByPin?pincode={PINCODE}&date={today}\""
   ]
  },
  {
   "cell_type": "code",
   "execution_count": null,
   "metadata": {},
   "outputs": [],
   "source": [
    "#Write a loop which checks for every 1000 seconds\n",
    "while True:\n",
    "    #Start a session\n",
    "    with requests.session() as session:\n",
    "        headers = {'User-Agent': 'Mozilla/5.0 (Windows NT 6.1; WOW64) AppleWebKit/537.36 (KHTML, like Gecko) Chrome/56.0.2924.76 Safari/537.36'}\n",
    "        response = session.get(url, headers=headers)\n",
    "\n",
    "        #Receive the response\n",
    "        response = response.json()\n",
    "        for center in response['centers']:\n",
    "            for session in center['sessions']:\n",
    "                #For Age not equal to 45 and capacity is above zero\n",
    "                if (session['min_age_limit'] >= 45) & (session['available_capacity'] > 0):\n",
    "                    message_string=f\"Subject: {today}'s Alert'!! \\n\\n Available - {session['available_capacity']} in {center['name']} on {session['date']} for the age {session['min_age_limit']}\"\n",
    "                    notification.notify(\n",
    "                        #title of the notification,\n",
    "                        title = \"Alert\",\n",
    "                        #the body of the notification\n",
    "                        message = message_string,  \n",
    "                        #creating icon for the notification\n",
    "                        #we need to download a icon of ico file format\n",
    "                        # the notification stays for 50sec\n",
    "                        timeout  = 50\n",
    "                    )\n",
    "        time.sleep(10)"
   ]
  }
 ],
 "metadata": {
  "kernelspec": {
   "display_name": "Python 3 (ipykernel)",
   "language": "python",
   "name": "python3"
  },
  "language_info": {
   "codemirror_mode": {
    "name": "ipython",
    "version": 3
   },
   "file_extension": ".py",
   "mimetype": "text/x-python",
   "name": "python",
   "nbconvert_exporter": "python",
   "pygments_lexer": "ipython3",
   "version": "3.7.4"
  }
 },
 "nbformat": 4,
 "nbformat_minor": 4
}
